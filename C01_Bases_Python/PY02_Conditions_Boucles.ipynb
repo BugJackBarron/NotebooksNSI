{
 "cells": [
  {
   "cell_type": "markdown",
   "metadata": {},
   "source": [
    "<h1> <font color=\"red\">Conditions et boucles en  </font></h1>\n",
    "\n",
    "![logo Python](python-logo.png)\n"
   ]
  },
  {
   "cell_type": "markdown",
   "metadata": {},
   "source": [
    "<h2><font color=\"blue\">I : Structures conditionnelles</font></h2>"
   ]
  },
  {
   "cell_type": "markdown",
   "metadata": {},
   "source": [
    "<h3><font color=\"green\">a : Comparateurs et opérateurs logiques</font></h3>"
   ]
  },
  {
   "cell_type": "markdown",
   "metadata": {},
   "source": [
    "En Python, comme dans de nombreux langages, on utilise les comparateurs et opérateurs logiques suivants :\n",
    "* `==` : comparateur d'égalité ;\n",
    "* `!=` : comparateur de différence;\n",
    "* `<`, `<=`, `>`, `>=` : comparateurs d'ordre ;\n",
    "* `and` , `or`, `not` : opérateurs logiques et, ou et non ;\n",
    "* `in`, `notin` : opérateurs d'inclusion.\n",
    "\n",
    "Ces opérateurs renvoient une valeur de type **booléen** ( donc `True` ou `False`):"
   ]
  },
  {
   "cell_type": "code",
   "execution_count": 3,
   "metadata": {},
   "outputs": [
    {
     "data": {
      "text/plain": [
       "True"
      ]
     },
     "execution_count": 3,
     "metadata": {},
     "output_type": "execute_result"
    }
   ],
   "source": [
    "5==2.0+3.0"
   ]
  },
  {
   "cell_type": "code",
   "execution_count": 5,
   "metadata": {},
   "outputs": [
    {
     "data": {
      "text/plain": [
       "True"
      ]
     },
     "execution_count": 5,
     "metadata": {},
     "output_type": "execute_result"
    }
   ],
   "source": [
    "4!=2+3"
   ]
  },
  {
   "cell_type": "code",
   "execution_count": 11,
   "metadata": {},
   "outputs": [
    {
     "data": {
      "text/plain": [
       "True"
      ]
     },
     "execution_count": 11,
     "metadata": {},
     "output_type": "execute_result"
    }
   ],
   "source": [
    "2<7<=7 # qui est très très pratique, et peu présent dans les autres langages que Python..."
   ]
  },
  {
   "cell_type": "code",
   "execution_count": 12,
   "metadata": {},
   "outputs": [
    {
     "data": {
      "text/plain": [
       "True"
      ]
     },
     "execution_count": 12,
     "metadata": {},
     "output_type": "execute_result"
    }
   ],
   "source": [
    "3<4 and 5<6"
   ]
  },
  {
   "cell_type": "code",
   "execution_count": 13,
   "metadata": {},
   "outputs": [
    {
     "data": {
      "text/plain": [
       "False"
      ]
     },
     "execution_count": 13,
     "metadata": {},
     "output_type": "execute_result"
    }
   ],
   "source": [
    "3<2 and 5<6 #Essayez avec d'autres valeurs"
   ]
  },
  {
   "cell_type": "code",
   "execution_count": 14,
   "metadata": {},
   "outputs": [
    {
     "data": {
      "text/plain": [
       "True"
      ]
     },
     "execution_count": 14,
     "metadata": {},
     "output_type": "execute_result"
    }
   ],
   "source": [
    "3<2 or 5<6 #Essayez avec d'autres valeurs"
   ]
  },
  {
   "cell_type": "code",
   "execution_count": 17,
   "metadata": {},
   "outputs": [
    {
     "data": {
      "text/plain": [
       "True"
      ]
     },
     "execution_count": 17,
     "metadata": {},
     "output_type": "execute_result"
    }
   ],
   "source": [
    "not(5<6)"
   ]
  },
  {
   "cell_type": "markdown",
   "metadata": {},
   "source": [
    "Python possède en plus un opérateur d'appartenance, qui n'est pas forcément présent dans tous les autres langages informatiques :"
   ]
  },
  {
   "cell_type": "code",
   "execution_count": 19,
   "metadata": {},
   "outputs": [
    {
     "data": {
      "text/plain": [
       "True"
      ]
     },
     "execution_count": 19,
     "metadata": {},
     "output_type": "execute_result"
    }
   ],
   "source": [
    "'TOTO'.lower()=='toto'"
   ]
  },
  {
   "cell_type": "code",
   "execution_count": 24,
   "metadata": {},
   "outputs": [
    {
     "data": {
      "text/plain": [
       "True"
      ]
     },
     "execution_count": 24,
     "metadata": {},
     "output_type": "execute_result"
    }
   ],
   "source": [
    "'Premier'<'panier'"
   ]
  },
  {
   "cell_type": "code",
   "execution_count": 35,
   "metadata": {},
   "outputs": [
    {
     "data": {
      "text/plain": [
       "True"
      ]
     },
     "execution_count": 35,
     "metadata": {},
     "output_type": "execute_result"
    }
   ],
   "source": [
    "'toto' and 'plage' in 'toto va à la plage'"
   ]
  },
  {
   "cell_type": "code",
   "execution_count": 30,
   "metadata": {},
   "outputs": [
    {
     "data": {
      "text/plain": [
       "False"
      ]
     },
     "execution_count": 30,
     "metadata": {},
     "output_type": "execute_result"
    }
   ],
   "source": [
    "'z' in 'aeiouy'"
   ]
  },
  {
   "cell_type": "markdown",
   "metadata": {},
   "source": [
    "Et bien sur on peut combiner ces opérateurs :"
   ]
  },
  {
   "cell_type": "code",
   "execution_count": 31,
   "metadata": {},
   "outputs": [
    {
     "data": {
      "text/plain": [
       "True"
      ]
     },
     "execution_count": 31,
     "metadata": {},
     "output_type": "execute_result"
    }
   ],
   "source": [
    "'z' not in 'aeiouy'"
   ]
  },
  {
   "cell_type": "markdown",
   "metadata": {},
   "source": [
    "<h3><font color=\"green\">b : Structures conditionnelles</font></h3>"
   ]
  },
  {
   "cell_type": "markdown",
   "metadata": {},
   "source": [
    "En Python, on utilise pour les structures conditionnelles la syntaxe suivante :"
   ]
  },
  {
   "cell_type": "code",
   "execution_count": null,
   "metadata": {},
   "outputs": [],
   "source": [
    "if condition1 :#Le : est important !\n",
    "    #bloc de une ou\n",
    "    #plusieurs lignes\n",
    "    #indentées ( avec la touche tabulation)\n",
    "elif condition2 :\n",
    "    #encore un autre bloc\n",
    "elif condition3 :\n",
    "    #etc\n",
    "    #etc\n",
    "    #etc\n",
    "else :\n",
    "    #et enfin un dernier bloc si aucune des conditions précédentes n'a été réalisée.    "
   ]
  },
  {
   "cell_type": "markdown",
   "metadata": {},
   "source": [
    "Les différents blocs d'instructions doivent être **correctement indentés** ( c'est-à-dire correctement décalé\n",
    "s vers la droite).\n",
    "La règle de bonne conduite est d'utiliser la touche **tabulation**, ou à défaut de respecter la norme de 4 espaces par indentation. Il est  réellement fondamental de respecter au maximum les indentations, celles-ci étant pour l'interpréteur Python le signal de déclenchement d'un bloc de code indépendant. Par exemple, le code ci-dessous renverra une erreur :"
   ]
  },
  {
   "cell_type": "code",
   "execution_count": 40,
   "metadata": {},
   "outputs": [
    {
     "name": "stdout",
     "output_type": "stream",
     "text": [
      "Entrez un nombre entre 1 et 100 :-2\n",
      "Votre nombre est trop petit\n",
      "FIN\n"
     ]
    }
   ],
   "source": [
    "nb = int(input(\"Entrez un nombre entre 1 et 100 :\"))\n",
    "if nb<1 :\n",
    "    print(\"Votre nombre est trop petit\")\n",
    "elif nb>100 :\n",
    "    print(\"Votre nombre est trop grand\")\n",
    "else :\n",
    "    print(\"Merci !\")\n",
    "print(\"FIN\")"
   ]
  },
  {
   "cell_type": "markdown",
   "metadata": {},
   "source": [
    "On peut aussi noter que les mots clés `elif` et `else` sont optionnels."
   ]
  },
  {
   "cell_type": "code",
   "execution_count": 41,
   "metadata": {},
   "outputs": [
    {
     "name": "stdout",
     "output_type": "stream",
     "text": [
      "Votre nombre est trop petit !\n"
     ]
    }
   ],
   "source": [
    "if nb<1 :\n",
    "    print(\"Votre nombre est trop petit !\")\n",
    "if nb>100 :\n",
    "    print(\"Votre nombre est trop grand !\")\n",
    "if 1<nb<100 :\n",
    "    print(\"Merci !\")"
   ]
  },
  {
   "cell_type": "markdown",
   "metadata": {},
   "source": [
    "Les structures conditionnelles peuvent aussi être imbriquées, en indentant à plusieurs reprises :"
   ]
  },
  {
   "cell_type": "code",
   "execution_count": 44,
   "metadata": {},
   "outputs": [
    {
     "name": "stdout",
     "output_type": "stream",
     "text": [
      "Entrez un nombre entier, positif ou négatif :9\n",
      "Votre nombre est positif !\n",
      "Et ce n'est pas un multiple de 2 !\n"
     ]
    }
   ],
   "source": [
    "nb=int(input(\"Entrez un nombre entier, positif ou négatif :\"))\n",
    "if nb>0 :\n",
    "    print(\"Votre nombre est positif !\")\n",
    "    if nb%2==0 :\n",
    "        print(\"Et c'est un multiple de 2 !\")\n",
    "    else :\n",
    "        print(\"Et ce n'est pas un multiple de 2 !\")\n",
    "else :\n",
    "    print(\"Votre nombre est négatif !\")"
   ]
  },
  {
   "cell_type": "markdown",
   "metadata": {},
   "source": [
    "<h2><font color=\"blue\">II : Boucles</font></h2>"
   ]
  },
  {
   "cell_type": "markdown",
   "metadata": {},
   "source": [
    "<h3><font color=\"green\">a : Boucle non bornée : while</font></h3>"
   ]
  },
  {
   "cell_type": "markdown",
   "metadata": {},
   "source": [
    "La boucle `while` ( ou boucle *Tant que* en pseudo-code), possède la structure suivante en Python :"
   ]
  },
  {
   "cell_type": "code",
   "execution_count": null,
   "metadata": {},
   "outputs": [],
   "source": [
    "while condition :#Encore une fois, ne pas oublier le signe :\n",
    "    #bloc de code\n",
    "    #indenté"
   ]
  },
  {
   "cell_type": "markdown",
   "metadata": {},
   "source": [
    "Le bloc de code situé sous l'instruction `while` sera exécuté **tant que la condition donnée sera vraie**, comme dans l'exemple donné ci-dessous :"
   ]
  },
  {
   "cell_type": "code",
   "execution_count": 46,
   "metadata": {},
   "outputs": [
    {
     "name": "stdout",
     "output_type": "stream",
     "text": [
      "Donnez un nombre entier positif:30217\n",
      "Votre nombre est supérieur ou égal à 2 puissance 14 et inférieur à 2 puissance 15\n"
     ]
    }
   ],
   "source": [
    "nb= int(input(\"Donnez un nombre entier positif:\"))\n",
    "puissance = 0\n",
    "while nb//2 >=1  :\n",
    "    puissance = puissance +1\n",
    "    nb=nb//2\n",
    "print(\"Votre nombre est supérieur ou égal à 2 puissance {p} et inférieur à 2 puissance {q}\".format(\n",
    "    p=puissance,q=puissance+1))#A noter qu'ici le texte étant trop long, on a pu \"sauter\" à la ligne\n",
    "                            #le saut de ligne étant compris entre les parenthèses de la méthode format"
   ]
  },
  {
   "cell_type": "markdown",
   "metadata": {},
   "source": [
    "<h3><font color=\"green\">d : Boucle bornée : `for`</font></h3>"
   ]
  },
  {
   "cell_type": "markdown",
   "metadata": {},
   "source": [
    "<h3><font color=\"green\">i : La boucle classique `for`</font></h3>"
   ]
  },
  {
   "cell_type": "markdown",
   "metadata": {},
   "source": []
  },
  {
   "cell_type": "code",
   "execution_count": null,
   "metadata": {},
   "outputs": [],
   "source": []
  },
  {
   "cell_type": "markdown",
   "metadata": {},
   "source": [
    "<h3><font color=\"green\">ii : la boucle `for` en Python</font></h3>"
   ]
  },
  {
   "cell_type": "markdown",
   "metadata": {},
   "source": [
    "En Python, la boucle `for` est particulière. Elle est construite de manière à parcourir un **objet itérable**, c'est à dire un objet dont les éléments peuvent être repérés par un index, et donc qu'on peut parcourir du début à la fin.\n",
    "Ainsi, en Python, la boucle `for` peut parcourir :\n",
    "* une série de nombre entiers, grâce à la fonction **built-in**  `range()` prenant trois valeurs comme argument, la borne inférieure (incluse),la borne supérieure (exclue) et le pas ( optionnel) ;\n",
    "* une chaïne de caractère ;\n",
    "* une liste ( à voir dans le prochain cours ) ;\n",
    "* un fichier texte ( qui sera vu dans le TP crée un site web interactif avec Cherrypy );\n",
    "* un fichier binaire ( pour ceux qui veulent s'amuser, un TP sera prévu sur la Stéganographie );\n",
    "* etc.\n",
    "\n",
    "La syntaxe de la boucle `for` est la suivante :"
   ]
  },
  {
   "cell_type": "code",
   "execution_count": null,
   "metadata": {},
   "outputs": [],
   "source": [
    "for variable in itérable :#Toujours ce signe \":\"\n",
    "    #Bloc d'instruction"
   ]
  },
  {
   "cell_type": "markdown",
   "metadata": {},
   "source": [
    "On peut utiliser ainsi utiliser la boucle `for` comme sur les exemples suivants :"
   ]
  },
  {
   "cell_type": "code",
   "execution_count": null,
   "metadata": {},
   "outputs": [],
   "source": [
    "for i in range(1,100) :\n",
    "    print(i)"
   ]
  },
  {
   "cell_type": "code",
   "execution_count": null,
   "metadata": {},
   "outputs": [],
   "source": [
    "texte ='Un texte quelconque'\n",
    "for lettre in texte :\n",
    "    if lettre in 'aeiouy':\n",
    "        print(\"Tiens, j'ai vu la voyelle {}.\".format(lettre))"
   ]
  },
  {
   "cell_type": "markdown",
   "metadata": {},
   "source": [
    "<h2><font color=\"blue\">III :Exercices</font></h2>"
   ]
  },
  {
   "cell_type": "markdown",
   "metadata": {},
   "source": [
    "<h3><font color=\"green\">a : Exercices de base et logique</font></h3>"
   ]
  },
  {
   "cell_type": "markdown",
   "metadata": {},
   "source": [
    "1. Ecrivez un programme qui permute et affiche les valeurs de trois variables A,B et C : A va dans B, B va dans C et C dans A\n",
    "2. Ecrire un programme qui demande un nombre à l'utilisateur, puis affiche le carré de ce nombre.\n",
    "3. Ecrire un programme qui demande l'heure qu'il est ( un nombre pour les heures, un nombre pour les minutes et un pour les secondes ). Cet algorithme indiquera en outre si l'heure donnée est valide.\n",
    "4. Compléter le programme précédent afin que l'algorithme donne l'heure qu'il sera dans 10 minutes.\n",
    "5. Ecrire un programme qui demande les coefficients $a$ et $b$ d'une fonction affine, et qui donne son nombre de racines et leur valeur éventuelles. Attention aux cas particuliers !\n",
    "6. Etendre le programme précédent pour la résolution d'équations du type $ax+b = cx+d$, où $a,b,c,d$ sont des entiers saisis par l'utilisateur.\n",
    "7. Reprendre le problème n°5 pour un trinôme du second degré."
   ]
  },
  {
   "cell_type": "markdown",
   "metadata": {},
   "source": [
    "<h3><font color=\"green\">b : Exercices sur les boucles `for` et `while`</font></h3>"
   ]
  },
  {
   "cell_type": "markdown",
   "metadata": {},
   "source": [
    "1. Ecrire un programme qui les 20 premiers nombres de la table de multiplication d'un entier choisi par l'utilisateur.\n",
    "2. Ecrire un programme qui affiche les restes des $200$ premiers entiers de la division euclidienne par $7$.\n",
    "3. Ecrire un programme qui affiche les restes des $300$ premières puissances de $2$ modulo $17$. Que constate-t-on ?\n",
    "4. Ecrire un programme qui affiche une suite de 12 nombres dont chaque terme soit égal au triple du nombre précédent.\n",
    "5. Ecrire un programme qui demande un nombre entier entre 1 et 10 à l'utilisateur, et qui poursuit cette demande tant que l'utilisateur n'a pas exactement fait ce qui lui était demandé ( on appelle ce type de programme **dumbproof**). "
   ]
  }
 ],
 "metadata": {
  "kernelspec": {
   "display_name": "Python 3",
   "language": "python",
   "name": "python3"
  },
  "language_info": {
   "codemirror_mode": {
    "name": "ipython",
    "version": 3
   },
   "file_extension": ".py",
   "mimetype": "text/x-python",
   "name": "python",
   "nbconvert_exporter": "python",
   "pygments_lexer": "ipython3",
   "version": "3.6.5"
  }
 },
 "nbformat": 4,
 "nbformat_minor": 2
}
