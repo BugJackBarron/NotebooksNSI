{
 "cells": [
  {
   "cell_type": "markdown",
   "metadata": {},
   "source": [
    "<h1> <font color=\"red\">Débuter avec </font></h1>\n",
    "\n",
    "![logo Python](python-logo.png)\n"
   ]
  },
  {
   "cell_type": "markdown",
   "metadata": {},
   "source": [
    "<h2><font color=\"blue\">I : Types de base </font></h2>"
   ]
  },
  {
   "cell_type": "markdown",
   "metadata": {},
   "source": [
    "<h3><font color=\"green\">a : Objets et types de base</font></h3>"
   ]
  },
  {
   "cell_type": "markdown",
   "metadata": {},
   "source": [
    "En Python, tout est objet. par exemple, dans la cellule suivante :"
   ]
  },
  {
   "cell_type": "code",
   "execution_count": 1,
   "metadata": {},
   "outputs": [
    {
     "data": {
      "text/plain": [
       "True"
      ]
     },
     "execution_count": 1,
     "metadata": {},
     "output_type": "execute_result"
    }
   ],
   "source": [
    "5\n",
    "\"Toto\"\n",
    "\n",
    "4.5 # Attention, il s'agit de la notation américaine, donc pas de virgule mais un point...\n",
    "True"
   ]
  },
  {
   "cell_type": "markdown",
   "metadata": {},
   "source": [
    "on a crée 4 objets différents, présents dans ce qu'on appelle l'**espace des objets**. En déclenchant la cellule précédente ( *CTRL+Entrée*), on obtient cependant que l'affichage de `4.5`. En effet, un mécanisme existant dans tous les langages de programmation, appelé **garbage collector** ( soit *collecteur d'ordure*), nettoie tout objet non utilisé. La mémoire de l'ordinateur étant limitée physiquement, il est nécessaire de nettoyer très régulièrement ( plusieurs centaines de fois par seconde) cette mémoire afin de garantir le bon fonctionnement de la machine. Le garbage collector a donc supprimé les objets `5`, `\"Toto\"` et `True`.\n",
    "\n",
    "Regardons plus précisemment ces objets, en demandant à Python grâce aux instructions **built-in** `print()` et `type()` la nature des objets crées (vous pouvez éditer, modifier, compléter à loisir les cellules IPython ci-dessous ):"
   ]
  },
  {
   "cell_type": "code",
   "execution_count": 2,
   "metadata": {},
   "outputs": [
    {
     "name": "stdout",
     "output_type": "stream",
     "text": [
      "<class 'NoneType'>\n"
     ]
    }
   ],
   "source": [
    " print(type(None))"
   ]
  },
  {
   "cell_type": "markdown",
   "metadata": {},
   "source": [
    "Les types basiques de Python sont donc les suivants :\n",
    "* le type `int` : qui permet de manipuler des nombres entiers relatifs, de $-2.10^{9}$ à $+2.10^9$, mais la plage pouvant être étendus ;\n",
    "* le type `float` : qui permet de manipuler des nombres décimaux à $32$ bits entre $-10^{302}$ et $+10^{302}$;\n",
    "* le type `str` : qui permet de manipuler des chaînes de caractères ;\n",
    "* le type `bool` : qui permet de manipuler des valeurs **booléennes**, c'est à dire vraies ou fausses, utilisées par défaut dans les intsructions nécessitant une condition (`if` ou `while` par exemple).\n",
    "\n",
    "Chacun de ces types possède des opérations qui lui sont propres. Elles sont nombreuses, et largement documentées dans la doc Python 3 officielle, en suivant le lien ci contre : [Doc Python 3.6 en français](https://docs.python.org/fr/3.6/) ( La dernière version de Python est la 3.8, mais les notebooks Jupyter ne fonctionnent ici qu'en Python 3.6. Certaines fonctionnalités de la dernière version de Python ne sont donc pas accessibles, mais pour la majorité des cas nous pourrons travailler correctemnt )."
   ]
  },
  {
   "cell_type": "markdown",
   "metadata": {},
   "source": [
    "Il existe aussi des *constantes* spécifiques, c'est-à-dire des objets spéciaux, comme par exemple `None`, qui est une valeur signifiant l'absence de type."
   ]
  },
  {
   "cell_type": "markdown",
   "metadata": {},
   "source": [
    "<h3><font color=\"green\">b : Nommage des objets</font></h3>"
   ]
  },
  {
   "cell_type": "markdown",
   "metadata": {},
   "source": [
    "Bien entendu, de manière quasi obligatoire, il est nécessaire de conserver des objets et d'éviter que ceux-ci disparaissent avec le **garbage collector**.\n",
    "\n",
    "Pour cela, on va associer à chaque objet un **nom** dans l'**espace de nom**, grâce à l'opération d'**affectation** `=`."
   ]
  },
  {
   "cell_type": "code",
   "execution_count": 3,
   "metadata": {},
   "outputs": [],
   "source": [
    "nombreEntier=5\n",
    "leVraiHero=\"Dark\"\n",
    "print=True"
   ]
  },
  {
   "cell_type": "markdown",
   "metadata": {},
   "source": [
    "Le nom donné à l'objet peut être n'importe lequel, en respectant les règles **impératives** suivantes :\n",
    "* Un nom de variable est une séquence de lettres, de chiffres, qui ne doit pas commencer par un chiffre.\n",
    "* La **casse est significative** (les caractères majuscules et minuscules sont distingués). Donc `Joseph`, `joseph`, et `JOSEPH` sont des variables différentes.\n",
    "* Les « mots réservés » du langage sont déjà pris (ex : `print()`). Il s'agit des instructions de bases et des fonctions natives ( voir [ici](https://docs.python.org/fr/3/library/functions.html) ). Si vous nommez une variable comme un de ces mots, vous ne pourrez plus utiliser la fonctionnalité du mot réservé. Pour la liste des mots réservés : \n",
    "  \n",
    "Il faut également noter que les variables dont le nom commence par le caractère `_` ont une signification particulière :\n",
    "* les noms commençant par un `_` ne sont pas exportés lorsqu'ils se trouvent dans un module ;\n",
    "* les noms commençant par deux `_` et finissant par deux `_` sont réservés par le langage lui même, notamment pour la programmation orientée objet.\n",
    "\n",
    "Ces deux points ci-dessus sont juste des indications pour l'instant, ils seront vu dans le futur, en particulier en terminale.\n",
    "\n",
    "Il existe quelques règles de \"bien nommage\" des variables :\n",
    "*  il est recommandé d'écrire les noms de variables avec une minuscule, car l'usage veut qu'on le réserve plutôt la majuscule aux noms de classes ou aux constantes ;\n",
    "* Si le nom d'une variable doit comporter plusieurs mots, il y a deux possibilités d'écrire le nom de la variable :\n",
    "    * En **snake_case** (à la C), c'est à dire en séparant les mots par le caractère `_`. Exemple : `marge_brut`.\n",
    "    * En **camelCase** (à la Java), c'est à dire en séparant les mots par un passage en haut de casse (lettre majuscule). Exemple : `margeBrut`.\n",
    "* Il convient aussi d'éviter autant que possible l'énumération de variables (`toto1`, `toto2`, `toto3`, ...), cela rend le programme parfaitement incompréhensible et sujet à des erreurs.\n",
    "* De manière générale, il convient de suivre aussi strictement que possible les règles édictées par la **Python Software Foundation** à travers les normes PEP, dont la dernière en date est disponible ici : [PEP8](https://www.python.org/dev/peps/pep-0008/)"
   ]
  },
  {
   "cell_type": "markdown",
   "metadata": {},
   "source": [
    "Une fois l'affectation réalisée, les objets sont donc récupérables grâce à leur nom, ils sont protégés du **garbage collector** et on peut effectuer des actions sur ces objets :"
   ]
  },
  {
   "cell_type": "code",
   "execution_count": 4,
   "metadata": {},
   "outputs": [
    {
     "data": {
      "text/plain": [
       "25"
      ]
     },
     "execution_count": 4,
     "metadata": {},
     "output_type": "execute_result"
    }
   ],
   "source": [
    "nombreEntier**2"
   ]
  },
  {
   "cell_type": "code",
   "execution_count": 5,
   "metadata": {},
   "outputs": [
    {
     "data": {
      "text/plain": [
       "'DarkVador'"
      ]
     },
     "execution_count": 5,
     "metadata": {},
     "output_type": "execute_result"
    }
   ],
   "source": [
    "leVraiHero+\"Vador\""
   ]
  },
  {
   "cell_type": "code",
   "execution_count": 6,
   "metadata": {},
   "outputs": [
    {
     "data": {
      "text/plain": [
       "False"
      ]
     },
     "execution_count": 6,
     "metadata": {},
     "output_type": "execute_result"
    }
   ],
   "source": [
    "not(print)"
   ]
  },
  {
   "cell_type": "markdown",
   "metadata": {},
   "source": [
    "<h3><font color=\"green\">c : Types numériques et opérations</font></h3>"
   ]
  },
  {
   "cell_type": "markdown",
   "metadata": {},
   "source": [
    "Pour les types numériques, `int` et `float` (et pour le type `complex`, mais qui n'est pas vu en maths avant la terminale ), on trouve toutes les opérations classiques :"
   ]
  },
  {
   "cell_type": "code",
   "execution_count": 1,
   "metadata": {},
   "outputs": [
    {
     "data": {
      "text/plain": [
       "int"
      ]
     },
     "execution_count": 1,
     "metadata": {},
     "output_type": "execute_result"
    }
   ],
   "source": [
    "type(5+2) #Addition entière"
   ]
  },
  {
   "cell_type": "code",
   "execution_count": 2,
   "metadata": {},
   "outputs": [
    {
     "data": {
      "text/plain": [
       "float"
      ]
     },
     "execution_count": 2,
     "metadata": {},
     "output_type": "execute_result"
    }
   ],
   "source": [
    "type(5.6+3.4) # Addition flottante ( Quel est le type du résultat ?)"
   ]
  },
  {
   "cell_type": "code",
   "execution_count": 9,
   "metadata": {},
   "outputs": [
    {
     "data": {
      "text/plain": [
       "8.4"
      ]
     },
     "execution_count": 9,
     "metadata": {},
     "output_type": "execute_result"
    }
   ],
   "source": [
    "5 + 3.4 # Addition entre un entier et un flottant ( Quel est le type du résultat ?)"
   ]
  },
  {
   "cell_type": "code",
   "execution_count": 10,
   "metadata": {},
   "outputs": [
    {
     "data": {
      "text/plain": [
       "-1"
      ]
     },
     "execution_count": 10,
     "metadata": {},
     "output_type": "execute_result"
    }
   ],
   "source": [
    "3-4 #Soustraction ( A tester de la même manière)"
   ]
  },
  {
   "cell_type": "code",
   "execution_count": 6,
   "metadata": {},
   "outputs": [
    {
     "data": {
      "text/plain": [
       "34.0"
      ]
     },
     "execution_count": 6,
     "metadata": {},
     "output_type": "execute_result"
    }
   ],
   "source": [
    "4*8.5 #Multiplication ( idem)"
   ]
  },
  {
   "cell_type": "code",
   "execution_count": 7,
   "metadata": {},
   "outputs": [
    {
     "data": {
      "text/plain": [
       "float"
      ]
     },
     "execution_count": 7,
     "metadata": {},
     "output_type": "execute_result"
    }
   ],
   "source": [
    "type(90/5) #Division "
   ]
  },
  {
   "cell_type": "markdown",
   "metadata": {},
   "source": [
    "Attention ! Au résultat ci-dessus, le type obtenu est `float`, même si le dividende et le diviseur dont entiers et que résultat \"tombe juste\"... (A tester...)"
   ]
  },
  {
   "cell_type": "code",
   "execution_count": 8,
   "metadata": {},
   "outputs": [
    {
     "data": {
      "text/plain": [
       "6"
      ]
     },
     "execution_count": 8,
     "metadata": {},
     "output_type": "execute_result"
    }
   ],
   "source": [
    "79//12 #Quotient de la division euclidienne"
   ]
  },
  {
   "cell_type": "markdown",
   "metadata": {},
   "source": [
    "Ici par contre le résultat est bien de type `int` (A tester aussi...)"
   ]
  },
  {
   "cell_type": "code",
   "execution_count": 9,
   "metadata": {},
   "outputs": [
    {
     "data": {
      "text/plain": [
       "7"
      ]
     },
     "execution_count": 9,
     "metadata": {},
     "output_type": "execute_result"
    }
   ],
   "source": [
    "79%12 #reste de la division euclidienne ( ou modulo)."
   ]
  },
  {
   "cell_type": "code",
   "execution_count": 11,
   "metadata": {},
   "outputs": [
    {
     "data": {
      "text/plain": [
       "True"
      ]
     },
     "execution_count": 11,
     "metadata": {},
     "output_type": "execute_result"
    }
   ],
   "source": [
    "1324%2 == 0 # Pour savoir si un nombre est pair par exemple"
   ]
  },
  {
   "cell_type": "code",
   "execution_count": 15,
   "metadata": {},
   "outputs": [
    {
     "data": {
      "text/plain": [
       "125"
      ]
     },
     "execution_count": 15,
     "metadata": {},
     "output_type": "execute_result"
    }
   ],
   "source": [
    "5**3 #Puissance"
   ]
  },
  {
   "cell_type": "markdown",
   "metadata": {},
   "source": [
    "<h3><font color=\"green\">d : Types `str` ( chaines de caractères ) et opérations</font></h3>"
   ]
  },
  {
   "cell_type": "markdown",
   "metadata": {},
   "source": [
    "Le type `str` possède lui aussi ses propres opérations ( ou **méthodes**) qui permettent de transformer ou modifier une chaine de caractère. Parmi celles-ci, en voici quelques une utiles :"
   ]
  },
  {
   "cell_type": "code",
   "execution_count": 16,
   "metadata": {},
   "outputs": [
    {
     "data": {
      "text/plain": [
       "'TotoTata'"
      ]
     },
     "execution_count": 16,
     "metadata": {},
     "output_type": "execute_result"
    }
   ],
   "source": [
    "\"Toto\"+\"Tata\" #Concaténation"
   ]
  },
  {
   "cell_type": "code",
   "execution_count": 17,
   "metadata": {},
   "outputs": [
    {
     "data": {
      "text/plain": [
       "'TotoTotoTotoTotoToto'"
      ]
     },
     "execution_count": 17,
     "metadata": {},
     "output_type": "execute_result"
    }
   ],
   "source": [
    "\"Toto\"*5"
   ]
  },
  {
   "cell_type": "code",
   "execution_count": 18,
   "metadata": {},
   "outputs": [
    {
     "data": {
      "text/plain": [
       "'Tata'"
      ]
     },
     "execution_count": 18,
     "metadata": {},
     "output_type": "execute_result"
    }
   ],
   "source": [
    "\"Toto\".replace(\"o\",\"a\") #Substitution, en utilisant le point (.) pour accéder aux méthodes de classe."
   ]
  },
  {
   "cell_type": "code",
   "execution_count": 19,
   "metadata": {},
   "outputs": [
    {
     "data": {
      "text/plain": [
       "'toto'"
      ]
     },
     "execution_count": 19,
     "metadata": {},
     "output_type": "execute_result"
    }
   ],
   "source": [
    "\"Toto\".lower() #mise en minuscule, appel encore une fois à une méthode de classe."
   ]
  },
  {
   "cell_type": "code",
   "execution_count": 20,
   "metadata": {},
   "outputs": [
    {
     "data": {
      "text/plain": [
       "'TOTO'"
      ]
     },
     "execution_count": 20,
     "metadata": {},
     "output_type": "execute_result"
    }
   ],
   "source": [
    "\"Toto\".upper() #mise en majuscule, idem"
   ]
  },
  {
   "cell_type": "code",
   "execution_count": 21,
   "metadata": {},
   "outputs": [
    {
     "data": {
      "text/plain": [
       "'Une phrase sans queue ni tête.'"
      ]
     },
     "execution_count": 21,
     "metadata": {},
     "output_type": "execute_result"
    }
   ],
   "source": [
    "\"une phrase SANS QUEUE ni tÊte.\".capitalize()\n",
    "#Met en majuscule le premier caractère de la chaine, et en minuscule les autres, idem"
   ]
  },
  {
   "cell_type": "code",
   "execution_count": 22,
   "metadata": {},
   "outputs": [
    {
     "data": {
      "text/plain": [
       "'d'"
      ]
     },
     "execution_count": 22,
     "metadata": {},
     "output_type": "execute_result"
    }
   ],
   "source": [
    "\"Abcdefg\"[3]#Accès direct à un caractère par son index.\n",
    "#Attention, en informatique, les index commencent à 0 dans quasiment tous les langages !"
   ]
  },
  {
   "cell_type": "code",
   "execution_count": null,
   "metadata": {},
   "outputs": [],
   "source": [
    "\"              Des Blancs            \".strip()\n",
    "# Supprime les espaces inutiles devant et après une chaine de caractères"
   ]
  },
  {
   "cell_type": "code",
   "execution_count": 1,
   "metadata": {},
   "outputs": [
    {
     "data": {
      "text/plain": [
       "['Une', 'phrase', 'est', 'faite', 'avec', 'des', 'mots']"
      ]
     },
     "execution_count": 1,
     "metadata": {},
     "output_type": "execute_result"
    }
   ],
   "source": [
    "\"Une phrase est faite avec des mots\".split(\" \")\n",
    "#Sépare  une chaine de caractère en, fonction d'un caractère passé en argument ( ici le caractère espace \" \")\n",
    "# renvoie une liste"
   ]
  },
  {
   "cell_type": "code",
   "execution_count": 2,
   "metadata": {},
   "outputs": [
    {
     "data": {
      "text/plain": [
       "['12:34:45:78']"
      ]
     },
     "execution_count": 2,
     "metadata": {},
     "output_type": "execute_result"
    }
   ],
   "source": [
    "#On peut aussi passer un autre caractère, par exemple :\n",
    "\"12:34:45:78\".split(\" \")"
   ]
  },
  {
   "cell_type": "markdown",
   "metadata": {},
   "source": [
    "Il existe aussi la fonction **built-in** `len()` qui donne la longueur de la chaîne de caractères."
   ]
  },
  {
   "cell_type": "code",
   "execution_count": 23,
   "metadata": {},
   "outputs": [
    {
     "data": {
      "text/plain": [
       "6"
      ]
     },
     "execution_count": 23,
     "metadata": {},
     "output_type": "execute_result"
    }
   ],
   "source": [
    "len(\"aeiouy\")"
   ]
  },
  {
   "cell_type": "markdown",
   "metadata": {},
   "source": [
    "<h2><font color=\"blue\">II : Interactions avec l'utilisateur, transtypage des données, notions de formatage des chaines de caractères</font></h2>"
   ]
  },
  {
   "cell_type": "markdown",
   "metadata": {},
   "source": [
    "Pour demander une saise clavier à un utilisateur, on utilise la fonction **built-in** `input()`, prenant éventuellement en **argument**  une chaîne de caractères. Celle-ci interrompt le programme et attend une saise clavier de l'utilisateur, et retourne cette saisie sous la forme d'une chaîne de caractère.\n",
    "\n",
    "Pour afficher le contenu d'une variable, ou une chaîne de caractère, on utilise la fonction **built-in** `print()`."
   ]
  },
  {
   "cell_type": "code",
   "execution_count": null,
   "metadata": {},
   "outputs": [],
   "source": [
    "a=input(\"Entrez votre nom :\")\n",
    "print(a)"
   ]
  },
  {
   "cell_type": "markdown",
   "metadata": {},
   "source": [
    "Il faut cependant être attentif à ce qui est réalisé par la  fonction `input()`. En effet, le **retour** effectué par cette fonction est renvoyé sous la forme de chaîne de caractères, ce qui peut poser un problème, comme par exemple dans la situation ci-dessous :"
   ]
  },
  {
   "cell_type": "code",
   "execution_count": null,
   "metadata": {},
   "outputs": [],
   "source": [
    "nb=input(\"Entrez un nombre entier :\")\n",
    "print(2*nb)"
   ]
  },
  {
   "cell_type": "markdown",
   "metadata": {},
   "source": [
    "Pour lever cette ambiguïté, nous sommes parfois obligés d'effectuer un **transtypage** des données, avec l'aide des fonctions **built-in** suivantes :\n",
    "* `str()`\n",
    "* `int()`\n",
    "* `float()`\n",
    "* ...\n",
    "\n",
    "En modifiant l'exemple ci-dessus :\n"
   ]
  },
  {
   "cell_type": "code",
   "execution_count": null,
   "metadata": {},
   "outputs": [],
   "source": [
    "nb=input(\"Entrez un nombre entier :\")\n",
    "print(2*float(nb))\n",
    "type (nb)"
   ]
  },
  {
   "cell_type": "markdown",
   "metadata": {},
   "source": [
    "on a forcé ici dans la deuxième ligne Python à considérer le contenu de la variable `nb` comme étant un nombre entier.\n",
    "Ceci ne lève cependant pas tous les problèmes, puisque si l'utilisateur saisis une chaîne de caractères ne pouvant être transtypée en nombre entier, le programme renverra une erreur.\n",
    "\n",
    "Il est à noter qu'une solution plus élégante serait  de transtyper dès la saisie :"
   ]
  },
  {
   "cell_type": "code",
   "execution_count": null,
   "metadata": {},
   "outputs": [],
   "source": [
    "nb=int(input(\"Entrez un nombre entier :\"))\n",
    "print(2*nb)\n",
    "type(nb)"
   ]
  },
  {
   "cell_type": "markdown",
   "metadata": {},
   "source": [
    "Essayez le code suivant :"
   ]
  },
  {
   "cell_type": "code",
   "execution_count": null,
   "metadata": {},
   "outputs": [],
   "source": [
    "nom=input(\"Saisissez votre nom :\")\n",
    "prenom=input(\"Saisissez votre nom :\")\n",
    "print(\"Votre nom de famille est {a} et votre prénom est {b}\".format(a=nom.upper(),b=prenom.capitalize()))"
   ]
  },
  {
   "cell_type": "markdown",
   "metadata": {},
   "source": [
    "Dans la chaïne de caractère `\"Votre nom...\"`, on a inséré **entre accolades** deux variables `a` et `b`, qui ont été substituées grâce à la **méthode** `format()`, spécifique aux chaînes de caractères. Cette méthode est très utile pour obtenir des messages clairs pour les utilisateurs."
   ]
  },
  {
   "cell_type": "markdown",
   "metadata": {},
   "source": [
    "La méthode précédente peut-être améliorée grâce aux **f-string** depuis Python 3.6 :"
   ]
  },
  {
   "cell_type": "code",
   "execution_count": null,
   "metadata": {},
   "outputs": [],
   "source": [
    "nom=input(\"Saisissez votre nom :\")\n",
    "prenom=input(\"Saisissez votre nom :\")\n",
    "print(f\"Votre nom de famille est {nom.upper()} et votre prénom est {prenom.capitalize()}\")"
   ]
  },
  {
   "cell_type": "markdown",
   "metadata": {},
   "source": [
    "<h4><font color=\"blue\">Exercice</font></h4>"
   ]
  },
  {
   "cell_type": "markdown",
   "metadata": {},
   "source": [
    "Ecrire dans la cellule suivante un code python qui :\n",
    "* demande deux nombres à l'utilisateur ;\n",
    "* donne le produit des deux nombres, ainsi que le type du résultat, sous la forme d'une chaine de caractères dy type `3x4 = 12 Le résultat est de type int`.                                                                                                                             "
   ]
  },
  {
   "cell_type": "code",
   "execution_count": 3,
   "metadata": {},
   "outputs": [
    {
     "name": "stdout",
     "output_type": "stream",
     "text": [
      "Donnez le premier nombre : 2\n",
      "Donnez le deuxième nombre : 7\n",
      "2x7=14 Le résultat est du type <class 'int'>\n"
     ]
    }
   ],
   "source": [
    "nombre1= int(input(\"Donnez le premier nombre : \"))\n",
    "nombre2= int(input(\"Donnez le deuxième nombre : \"))\n",
    "print(f\"{nombre1}x{nombre2}={nombre1*nombre2} Le résultat est du type {type(nombre1*nombre2)}\")"
   ]
  },
  {
   "cell_type": "markdown",
   "metadata": {},
   "source": [
    "<h4><font color=\"blue\">Exercice</font></h4>"
   ]
  },
  {
   "cell_type": "markdown",
   "metadata": {},
   "source": [
    "1. Ecrivez un code qui permute et affiche les valeurs de trois variables A,B et C : A va dans B, B va dans C et C dans A\n",
    "2. Ecrire un code qui demande un nombre à l'utilisateur, puis affiche le carré de ce nombre."
   ]
  },
  {
   "cell_type": "code",
   "execution_count": 4,
   "metadata": {},
   "outputs": [
    {
     "name": "stdout",
     "output_type": "stream",
     "text": [
      "Avant échange :\n",
      "A=7 B=5 C=3\n",
      "Après échange :\n",
      "A=5 B=3 C=7\n"
     ]
    }
   ],
   "source": [
    "# Pour la première question, il faut introduire un quatrième nom de variable ( donc D), qui sera utilisé\n",
    "# temporairement\n",
    "A=7\n",
    "B=5\n",
    "C=3\n",
    "print (\"Avant échange :\")\n",
    "print(f\"A={A} B={B} C={C}\")\n",
    "D=A\n",
    "A=B\n",
    "B=C\n",
    "C=D\n",
    "print (\"Après échange :\")\n",
    "print(f\"A={A} B={B} C={C}\")\n"
   ]
  },
  {
   "cell_type": "code",
   "execution_count": 4,
   "metadata": {},
   "outputs": [
    {
     "name": "stdout",
     "output_type": "stream",
     "text": [
      "Entre un nombre : 5\n",
      "Le carré du nombre 5.0 est 25.0.\n"
     ]
    }
   ],
   "source": [
    "nb=float(input(\"Entre un nombre : \"))\n",
    "print(f\"Le carré du nombre {nb} est {nb**2}.\")"
   ]
  }
 ],
 "metadata": {
  "kernelspec": {
   "display_name": "Python 3",
   "language": "python",
   "name": "python3"
  },
  "language_info": {
   "codemirror_mode": {
    "name": "ipython",
    "version": 3
   },
   "file_extension": ".py",
   "mimetype": "text/x-python",
   "name": "python",
   "nbconvert_exporter": "python",
   "pygments_lexer": "ipython3",
   "version": "3.6.5"
  }
 },
 "nbformat": 4,
 "nbformat_minor": 2
}
